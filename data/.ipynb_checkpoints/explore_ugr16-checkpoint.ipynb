{
 "cells": [
  {
   "cell_type": "code",
   "execution_count": 3,
   "metadata": {},
   "outputs": [
    {
     "name": "stdout",
     "output_type": "stream",
     "text": [
      "INFO: Pandarallel will run on 40 workers.\n",
      "INFO: Pandarallel will use Memory file system to transfer data between the main process and workers.\n"
     ]
    }
   ],
   "source": [
    "# import vaex\n",
    "from pandarallel import pandarallel\n",
    "pandarallel.initialize()\n",
    "import pandas as pd\n",
    "import os\n",
    "from pathlib import Path\n",
    "import sys\n",
    "sys.path.append('./../..')\n",
    "sys.path.append('./..')\n",
    "from common_utils import utils"
   ]
  },
  {
   "cell_type": "code",
   "execution_count": 4,
   "metadata": {},
   "outputs": [],
   "source": [
    "DATA_SAVE_DIR = 'Processed'\n",
    "pathobj = Path(DATA_SAVE_DIR)\n",
    "pathobj.mkdir(exist_ok=True, parents=True)\n"
   ]
  },
  {
   "cell_type": "code",
   "execution_count": 5,
   "metadata": {},
   "outputs": [],
   "source": [
    "def get_IPs():\n",
    "    tmp = pd.read_csv(\n",
    "        'ugr16_ip_list.txt',index_col=None,delimiter=';'\n",
    "    )\n",
    "    labels = tmp['label']\n",
    "    ips = tmp['IP']\n",
    "    _dict = {}\n",
    "    \n",
    "    for i,j in zip(ips,labels):\n",
    "        first3= '.'.join(i.split('.')[:-1])\n",
    "        last4 = i.split('.')[-1]\n",
    "        last4 = last4.strip('{')\n",
    "        last4 = last4.strip('}')\n",
    "        last4 = last4.split(',')\n",
    "        for k in last4:\n",
    "            _dict[first3 + '.' + k] = j\n",
    "    return _dict\n",
    "Known_IPs = get_IPs()\n"
   ]
  },
  {
   "cell_type": "code",
   "execution_count": 6,
   "metadata": {},
   "outputs": [],
   "source": [
    "attacker_list = [k for k,v in Known_IPs.items() if v == 'attacker']\n",
    "victim_list = [k for k,v in Known_IPs.items() if v == 'victim']"
   ]
  },
  {
   "cell_type": "code",
   "execution_count": 7,
   "metadata": {},
   "outputs": [
    {
     "name": "stdout",
     "output_type": "stream",
     "text": [
      "['te', 'td', 'sa', 'da', 'sp', 'dp', 'pr', 'flg', 'fwd', 'stos', 'pkt', 'byt', 'label']\n"
     ]
    }
   ],
   "source": [
    "# ===========================\n",
    "# Column names need to be injected\n",
    "# ============================\n",
    "cols ='te,td,sa,da,sp,dp,pr,flg,fwd,stos,pkt,byt,label'.split(',')\n",
    "print(cols)"
   ]
  },
  {
   "cell_type": "code",
   "execution_count": 8,
   "metadata": {
    "scrolled": true
   },
   "outputs": [],
   "source": [
    "DATA_FILE = './../Data_Raw/uniq/april.week3.csv.uniqblacklistremoved'\n",
    "\n",
    "# ==================================================\n",
    "# df_list = vaex.from_csv(\n",
    "#     data_file,\n",
    "#     chunk_size = 100000,\n",
    "#     names = cols,\n",
    "#     header = None\n",
    "# )\n",
    "# ==================================================="
   ]
  },
  {
   "cell_type": "code",
   "execution_count": 9,
   "metadata": {
    "scrolled": true
   },
   "outputs": [],
   "source": [
    "start_TS = '2016-04-12 00:00:00'\n",
    "end_TS = '2016-04-12 23:59:59'\n",
    "df_filtered_time = None"
   ]
  },
  {
   "cell_type": "code",
   "execution_count": 10,
   "metadata": {
    "scrolled": true
   },
   "outputs": [],
   "source": [
    "reader = pd.read_csv(DATA_FILE, index_col=None, low_memory=False, names =cols, header=None, chunksize=100000)"
   ]
  },
  {
   "cell_type": "code",
   "execution_count": 11,
   "metadata": {},
   "outputs": [],
   "source": [
    "df_filtered_time = None"
   ]
  },
  {
   "cell_type": "code",
   "execution_count": 12,
   "metadata": {
    "scrolled": true
   },
   "outputs": [],
   "source": [
    "def validate(value,_list):\n",
    "    if value in _list:\n",
    "        return value\n",
    "    else:\n",
    "        return None"
   ]
  },
  {
   "cell_type": "code",
   "execution_count": null,
   "metadata": {
    "scrolled": true
   },
   "outputs": [],
   "source": [
    "for chunk in reader:\n",
    "    df_pd = chunk\n",
    "    \n",
    "    df_pd['TS'] = pd.to_datetime(df_pd['te'])\n",
    "    # ==============================\n",
    "    # Check if in time period\n",
    "    # ===============================\n",
    "    tmp = df_pd[(df_pd['TS'] > start_TS) & (df_pd['TS'] < end_TS) ]\n",
    "    \n",
    "    if len(tmp)==0: \n",
    "        continue\n",
    "\n",
    "    tmp['da'] = tmp['da'].parallel_apply(\n",
    "        validate,\n",
    "        args=(victim_list,)\n",
    "    )\n",
    "    \n",
    "    tmp = tmp.dropna()\n",
    "    \n",
    "    if len(tmp)==0: \n",
    "        continue\n",
    "    \n",
    "    print(\n",
    "        len(tmp),\n",
    "        df_pd.head(5)\n",
    "    )\n",
    "    if len(tmp) > 0 :\n",
    "        if df_filtered_time is None:\n",
    "            df_filtered_time = tmp\n",
    "        else:\n",
    "            df_filtered_time = df_filtered_time.append(tmp,ignore_index=True)\n",
    "    if len(df_filtered_time) > 0  and len(tmp) == 0 :\n",
    "        break\n",
    "        "
   ]
  },
  {
   "cell_type": "code",
   "execution_count": null,
   "metadata": {},
   "outputs": [],
   "source": [
    "len(df_filtered_time)"
   ]
  },
  {
   "cell_type": "code",
   "execution_count": null,
   "metadata": {},
   "outputs": [],
   "source": [
    "# =======================\n",
    "# Save the data\n",
    "# =======================\n",
    "file_name = 'data_' + start_TS.split(' ')[0] + '.csv'\n",
    "file_path = os.path.join(DATA_SAVE_DIR, file_name)\n",
    "utils.save_csv(\n",
    "    df_filtered_time,\n",
    "    file_path\n",
    ")\n",
    "# ====\n",
    "# Use utils.fetch_csv to read files\n",
    "# ====\n",
    "\n",
    "\n"
   ]
  },
  {
   "cell_type": "code",
   "execution_count": null,
   "metadata": {},
   "outputs": [],
   "source": []
  },
  {
   "cell_type": "code",
   "execution_count": null,
   "metadata": {},
   "outputs": [],
   "source": []
  },
  {
   "cell_type": "code",
   "execution_count": null,
   "metadata": {},
   "outputs": [],
   "source": []
  },
  {
   "cell_type": "code",
   "execution_count": 32,
   "metadata": {},
   "outputs": [],
   "source": []
  },
  {
   "cell_type": "code",
   "execution_count": null,
   "metadata": {},
   "outputs": [],
   "source": []
  },
  {
   "cell_type": "code",
   "execution_count": 35,
   "metadata": {},
   "outputs": [],
   "source": [
    "sshscan_file = './../../../../UGR16/april/week3/sshscan_flows_cut.csv'\n",
    "df = pd.read_csv(data_file, header=None, names=cols)"
   ]
  },
  {
   "cell_type": "code",
   "execution_count": 36,
   "metadata": {},
   "outputs": [
    {
     "data": {
      "text/html": [
       "<div>\n",
       "<style scoped>\n",
       "    .dataframe tbody tr th:only-of-type {\n",
       "        vertical-align: middle;\n",
       "    }\n",
       "\n",
       "    .dataframe tbody tr th {\n",
       "        vertical-align: top;\n",
       "    }\n",
       "\n",
       "    .dataframe thead th {\n",
       "        text-align: right;\n",
       "    }\n",
       "</style>\n",
       "<table border=\"1\" class=\"dataframe\">\n",
       "  <thead>\n",
       "    <tr style=\"text-align: right;\">\n",
       "      <th></th>\n",
       "      <th>te</th>\n",
       "      <th>td</th>\n",
       "      <th>sa</th>\n",
       "      <th>da</th>\n",
       "      <th>sp</th>\n",
       "      <th>dp</th>\n",
       "      <th>pr</th>\n",
       "      <th>flg</th>\n",
       "      <th>fwd</th>\n",
       "      <th>stos</th>\n",
       "      <th>pkt</th>\n",
       "      <th>byt</th>\n",
       "      <th>label</th>\n",
       "    </tr>\n",
       "  </thead>\n",
       "  <tbody>\n",
       "    <tr>\n",
       "      <th>0</th>\n",
       "      <td>2016-04-10 12:09:17</td>\n",
       "      <td>0.292</td>\n",
       "      <td>42.219.156.231</td>\n",
       "      <td>71.63.255.244</td>\n",
       "      <td>36676</td>\n",
       "      <td>22</td>\n",
       "      <td>TCP</td>\n",
       "      <td>.A..SF</td>\n",
       "      <td>0</td>\n",
       "      <td>0</td>\n",
       "      <td>3</td>\n",
       "      <td>164</td>\n",
       "      <td>anomaly-sshscan</td>\n",
       "    </tr>\n",
       "    <tr>\n",
       "      <th>1</th>\n",
       "      <td>2016-04-10 12:09:17</td>\n",
       "      <td>0.312</td>\n",
       "      <td>42.219.156.231</td>\n",
       "      <td>71.63.255.243</td>\n",
       "      <td>57609</td>\n",
       "      <td>22</td>\n",
       "      <td>TCP</td>\n",
       "      <td>.A..SF</td>\n",
       "      <td>0</td>\n",
       "      <td>0</td>\n",
       "      <td>3</td>\n",
       "      <td>164</td>\n",
       "      <td>anomaly-sshscan</td>\n",
       "    </tr>\n",
       "    <tr>\n",
       "      <th>2</th>\n",
       "      <td>2016-04-10 12:09:17</td>\n",
       "      <td>0.288</td>\n",
       "      <td>42.219.156.231</td>\n",
       "      <td>71.63.255.242</td>\n",
       "      <td>50803</td>\n",
       "      <td>22</td>\n",
       "      <td>TCP</td>\n",
       "      <td>.A..SF</td>\n",
       "      <td>0</td>\n",
       "      <td>0</td>\n",
       "      <td>3</td>\n",
       "      <td>164</td>\n",
       "      <td>anomaly-sshscan</td>\n",
       "    </tr>\n",
       "    <tr>\n",
       "      <th>3</th>\n",
       "      <td>2016-04-10 12:09:17</td>\n",
       "      <td>0.316</td>\n",
       "      <td>42.219.156.231</td>\n",
       "      <td>71.63.255.240</td>\n",
       "      <td>41397</td>\n",
       "      <td>22</td>\n",
       "      <td>TCP</td>\n",
       "      <td>.A..SF</td>\n",
       "      <td>0</td>\n",
       "      <td>0</td>\n",
       "      <td>3</td>\n",
       "      <td>164</td>\n",
       "      <td>anomaly-sshscan</td>\n",
       "    </tr>\n",
       "    <tr>\n",
       "      <th>4</th>\n",
       "      <td>2016-04-10 12:09:17</td>\n",
       "      <td>0.288</td>\n",
       "      <td>42.219.156.231</td>\n",
       "      <td>71.63.255.250</td>\n",
       "      <td>32906</td>\n",
       "      <td>22</td>\n",
       "      <td>TCP</td>\n",
       "      <td>.A..SF</td>\n",
       "      <td>0</td>\n",
       "      <td>0</td>\n",
       "      <td>3</td>\n",
       "      <td>164</td>\n",
       "      <td>anomaly-sshscan</td>\n",
       "    </tr>\n",
       "    <tr>\n",
       "      <th>5</th>\n",
       "      <td>2016-04-10 12:09:17</td>\n",
       "      <td>0.000</td>\n",
       "      <td>42.219.156.231</td>\n",
       "      <td>71.63.254.62</td>\n",
       "      <td>40564</td>\n",
       "      <td>22</td>\n",
       "      <td>TCP</td>\n",
       "      <td>....S.</td>\n",
       "      <td>0</td>\n",
       "      <td>0</td>\n",
       "      <td>1</td>\n",
       "      <td>60</td>\n",
       "      <td>anomaly-sshscan</td>\n",
       "    </tr>\n",
       "    <tr>\n",
       "      <th>6</th>\n",
       "      <td>2016-04-10 12:09:17</td>\n",
       "      <td>0.000</td>\n",
       "      <td>42.219.156.231</td>\n",
       "      <td>71.63.254.51</td>\n",
       "      <td>54708</td>\n",
       "      <td>22</td>\n",
       "      <td>TCP</td>\n",
       "      <td>....S.</td>\n",
       "      <td>0</td>\n",
       "      <td>0</td>\n",
       "      <td>1</td>\n",
       "      <td>60</td>\n",
       "      <td>anomaly-sshscan</td>\n",
       "    </tr>\n",
       "    <tr>\n",
       "      <th>7</th>\n",
       "      <td>2016-04-10 12:09:17</td>\n",
       "      <td>0.000</td>\n",
       "      <td>42.219.156.231</td>\n",
       "      <td>71.63.254.49</td>\n",
       "      <td>40607</td>\n",
       "      <td>22</td>\n",
       "      <td>TCP</td>\n",
       "      <td>....S.</td>\n",
       "      <td>0</td>\n",
       "      <td>0</td>\n",
       "      <td>1</td>\n",
       "      <td>60</td>\n",
       "      <td>anomaly-sshscan</td>\n",
       "    </tr>\n",
       "    <tr>\n",
       "      <th>8</th>\n",
       "      <td>2016-04-10 12:09:17</td>\n",
       "      <td>0.000</td>\n",
       "      <td>42.219.156.231</td>\n",
       "      <td>71.63.254.46</td>\n",
       "      <td>57127</td>\n",
       "      <td>22</td>\n",
       "      <td>TCP</td>\n",
       "      <td>....S.</td>\n",
       "      <td>0</td>\n",
       "      <td>0</td>\n",
       "      <td>1</td>\n",
       "      <td>60</td>\n",
       "      <td>anomaly-sshscan</td>\n",
       "    </tr>\n",
       "    <tr>\n",
       "      <th>9</th>\n",
       "      <td>2016-04-10 12:09:17</td>\n",
       "      <td>0.000</td>\n",
       "      <td>42.219.156.231</td>\n",
       "      <td>71.63.254.37</td>\n",
       "      <td>54796</td>\n",
       "      <td>22</td>\n",
       "      <td>TCP</td>\n",
       "      <td>....S.</td>\n",
       "      <td>0</td>\n",
       "      <td>0</td>\n",
       "      <td>1</td>\n",
       "      <td>60</td>\n",
       "      <td>anomaly-sshscan</td>\n",
       "    </tr>\n",
       "  </tbody>\n",
       "</table>\n",
       "</div>"
      ],
      "text/plain": [
       "                    te     td              sa             da     sp  dp   pr  \\\n",
       "0  2016-04-10 12:09:17  0.292  42.219.156.231  71.63.255.244  36676  22  TCP   \n",
       "1  2016-04-10 12:09:17  0.312  42.219.156.231  71.63.255.243  57609  22  TCP   \n",
       "2  2016-04-10 12:09:17  0.288  42.219.156.231  71.63.255.242  50803  22  TCP   \n",
       "3  2016-04-10 12:09:17  0.316  42.219.156.231  71.63.255.240  41397  22  TCP   \n",
       "4  2016-04-10 12:09:17  0.288  42.219.156.231  71.63.255.250  32906  22  TCP   \n",
       "5  2016-04-10 12:09:17  0.000  42.219.156.231   71.63.254.62  40564  22  TCP   \n",
       "6  2016-04-10 12:09:17  0.000  42.219.156.231   71.63.254.51  54708  22  TCP   \n",
       "7  2016-04-10 12:09:17  0.000  42.219.156.231   71.63.254.49  40607  22  TCP   \n",
       "8  2016-04-10 12:09:17  0.000  42.219.156.231   71.63.254.46  57127  22  TCP   \n",
       "9  2016-04-10 12:09:17  0.000  42.219.156.231   71.63.254.37  54796  22  TCP   \n",
       "\n",
       "      flg  fwd  stos  pkt  byt            label  \n",
       "0  .A..SF    0     0    3  164  anomaly-sshscan  \n",
       "1  .A..SF    0     0    3  164  anomaly-sshscan  \n",
       "2  .A..SF    0     0    3  164  anomaly-sshscan  \n",
       "3  .A..SF    0     0    3  164  anomaly-sshscan  \n",
       "4  .A..SF    0     0    3  164  anomaly-sshscan  \n",
       "5  ....S.    0     0    1   60  anomaly-sshscan  \n",
       "6  ....S.    0     0    1   60  anomaly-sshscan  \n",
       "7  ....S.    0     0    1   60  anomaly-sshscan  \n",
       "8  ....S.    0     0    1   60  anomaly-sshscan  \n",
       "9  ....S.    0     0    1   60  anomaly-sshscan  "
      ]
     },
     "execution_count": 36,
     "metadata": {},
     "output_type": "execute_result"
    }
   ],
   "source": [
    "df.head(10)"
   ]
  },
  {
   "cell_type": "code",
   "execution_count": null,
   "metadata": {},
   "outputs": [],
   "source": []
  }
 ],
 "metadata": {
  "kernelspec": {
   "display_name": "Python 3",
   "language": "python",
   "name": "python3"
  },
  "language_info": {
   "codemirror_mode": {
    "name": "ipython",
    "version": 3
   },
   "file_extension": ".py",
   "mimetype": "text/x-python",
   "name": "python",
   "nbconvert_exporter": "python",
   "pygments_lexer": "ipython3",
   "version": "3.7.7"
  }
 },
 "nbformat": 4,
 "nbformat_minor": 4
}
